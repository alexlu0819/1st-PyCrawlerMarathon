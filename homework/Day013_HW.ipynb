{
 "cells": [
  {
   "cell_type": "markdown",
   "metadata": {},
   "source": [
    "# PTT 網路爬蟲實作練習\n",
    "\n",
    "\n",
    "* 能夠利用 Request + BeatifulSour 撰寫爬蟲，並存放到合適的資料結構\n"
   ]
  },
  {
   "cell_type": "markdown",
   "metadata": {},
   "source": [
    "## 作業目標\n",
    "\n",
    "根據範例 ，完成以下問題：\n",
    "\n",
    "* ① 印出最新文章的「作者」「標題」「時間」\n",
    "* ② 印出第一頁所有文章的「作者」「標題」「時間」\n"
   ]
  },
  {
   "cell_type": "markdown",
   "metadata": {},
   "source": [
    "### ① 印出最新文章的「作者」「標題」「時間」"
   ]
  },
  {
   "cell_type": "code",
   "execution_count": 34,
   "metadata": {},
   "outputs": [
    {
     "name": "stdout",
     "output_type": "stream",
     "text": [
      "12/11 melman87 [情報] Vince Carter 生涯例行賽1500場次達成\n",
      "12/11 Rambo [Live] 尼克 @ 拓荒者\n",
      "12/11 Rambo [BOX ] Wizards 107:114 Hornets 數據\n",
      "12/11 fukawa947 [新聞] K湯已恢復訓練　並連續命中多記投籃\n",
      "12/11 Wojnarowski [花邊] 回憶Kobe練球痛罵林書豪 N.楊恩：他被虐\n",
      "12/11 mailman [討論] Paul Millsap怎麼打那麼少？\n",
      " 5/24 Vedan [公告] 板規v6.6\n",
      " 6/24 Vedan [公告] 樂透取消及未來不再開啟樂透\n",
      "10/25 qazwsx879345 [公告] 版主上任相關事項 \n",
      "11/29 JerroLi [情報] SEASON Schedule 賽程 December 19–20\n",
      "12/08 dragon803 [公告]是否禁止basketball top 5文章投票開始 \n"
     ]
    }
   ],
   "source": [
    "import requests\n",
    "from bs4 import BeautifulSoup\n",
    "\n",
    "url = 'https://www.ptt.cc/bbs/NBA/index.html'\n",
    "r = requests.get(url)\n",
    "\n",
    "soup = BeautifulSoup(r.text, \"html5lib\")\n",
    "\n",
    "for d in soup.find_all(class_=\"r-ent\"):\n",
    "    title = d.find(class_=\"title\").find(\"a\").text\n",
    "    author = d.find(class_=\"meta\").find(class_=\"author\").text\n",
    "    date = d.find(class_=\"meta\").find(class_=\"date\").text\n",
    "    print(date, author, title)\n"
   ]
  },
  {
   "cell_type": "markdown",
   "metadata": {},
   "source": [
    "### ② 印出第一頁所有文章的「作者」「標題」「時間」"
   ]
  },
  {
   "cell_type": "code",
   "execution_count": 35,
   "metadata": {},
   "outputs": [
    {
     "name": "stdout",
     "output_type": "stream",
     "text": [
      " 5/16 Price [轉錄]Lyotard 對於太陽板討論串的結論\n",
      " 5/31 Price [公告] 請停止一切關於本次活動的發言\n",
      " 6/08 Frankaze [轉錄]跟之前那篇比起來 我覺得這篇也應該轉過來\n",
      " 6/08 Frankaze [轉錄]再轉一篇好文來\n",
      " 6/10 Price [轉錄][情報] 夏洛特山貓系列\n",
      " 6/10 Price [轉錄]Re: [心得] 真是受不了糗爺....\n",
      " 6/10 Price [轉錄]總冠軍賽NO.2觀後感\n",
      " 6/11 AmuroNamie [心得] Rasheed Wallace\n",
      " 6/12 toptree 掌控球賽的男人\n",
      " 6/12 skchang [閒聊] 說說2004季後賽名場面回顧\n",
      " 6/12 shineup [心得] 其實說穿了 就是活塞的防守太可怕了\n",
      " 6/12 cOvi Re: [閒聊] 說說2004季後賽名場面回顧\n",
      " 6/12 ykshih Re: [閒聊] 說說2004季後賽名場面回顧\n",
      " 6/12 Frankaze Re: [閒聊] 說說2004季後賽名場面回顧\n",
      " 6/14 Price [轉錄]Re: 總冠軍賽NO.3觀後感\n",
      " 6/14 Frankaze [轉錄]Re: 總冠軍賽NO.3觀後感\n",
      " 6/14 star1 Re: [轉錄]Re: 總冠軍賽NO.3觀後感\n",
      " 6/14 coldspring Re: [轉錄]Re: 總冠軍賽NO.3觀後感\n",
      " 6/14 airbear Re: Kobe is frustrated...\n",
      " 6/14 pennykidd Re: [轉錄]Re: 總冠軍賽NO.3觀後感\n"
     ]
    }
   ],
   "source": [
    "url = 'https://www.ptt.cc/bbs/NBA/index1.html'\n",
    "r = requests.get(url)\n",
    "\n",
    "soup = BeautifulSoup(r.text, \"html5lib\")\n",
    "\n",
    "for d in soup.find_all(class_=\"r-ent\"):\n",
    "    title = d.find(class_=\"title\").find(\"a\").text\n",
    "    author = d.find(class_=\"meta\").find(class_=\"author\").text\n",
    "    date = d.find(class_=\"meta\").find(class_=\"date\").text\n",
    "    print(date, author, title)"
   ]
  },
  {
   "cell_type": "markdown",
   "metadata": {},
   "source": [
    "### ③ 試著爬爬看其他版的文章"
   ]
  },
  {
   "cell_type": "code",
   "execution_count": 36,
   "metadata": {},
   "outputs": [
    {
     "name": "stdout",
     "output_type": "stream",
     "text": [
      "11/10 zeumax Re: [問題] 韓說兩岸關係是王八蛋和爸爸？\n",
      "11/11 akirachen100 [閒聊] 呂欣潔給許毓仁的建議\n",
      "11/12 Iamaidiot [公告] aheen警告一次\n",
      "11/17 filmystery [閒聊] 孫先生民調有趣的地方XD\n",
      "11/19 lonelytea [閒聊] 關於政治型app\n",
      "11/21 TDF009 [問題] 遷戶籍後投票\n",
      "12/04 Kempner [討論] 高雄立委提出類固醇需要列管\n",
      "12/05 shc2014 [請益] 警察檢察法官貪污比\n",
      "12/09 jiangxw Re: [請益] 警察檢察法官貪污比\n",
      "12/10 eduishappy [建議] 如何談一場君子之爭的選舉？\n",
      "12/10 eduishappy [建議] 總統兼黨主席好嗎？\n",
      " 9/03 Iamaidiot [情報] 一篇關於版友討論時常犯錯誤的文章\n",
      " 2/13 Iamaidiot [I告] 請調整開砲目標\n",
      " 9/24 mchotdicku Re: [情報] 一篇關於版友討論時常犯錯誤的文章\n",
      "12/13 Iamaidiot [公告] 各位注意\n"
     ]
    }
   ],
   "source": [
    "url = 'https://www.ptt.cc/bbs/Politics/index.html'\n",
    "r = requests.get(url)\n",
    "\n",
    "soup = BeautifulSoup(r.text, \"html5lib\")\n",
    "\n",
    "for d in soup.find_all(class_=\"r-ent\"):\n",
    "    title = d.find(class_=\"title\").find(\"a\").text\n",
    "    author = d.find(class_=\"meta\").find(class_=\"author\").text\n",
    "    date = d.find(class_=\"meta\").find(class_=\"date\").text\n",
    "    print(date, author, title)"
   ]
  },
  {
   "cell_type": "code",
   "execution_count": null,
   "metadata": {},
   "outputs": [],
   "source": []
  }
 ],
 "metadata": {
  "kernelspec": {
   "display_name": "Python 3",
   "language": "python",
   "name": "python3"
  },
  "language_info": {
   "codemirror_mode": {
    "name": "ipython",
    "version": 3
   },
   "file_extension": ".py",
   "mimetype": "text/x-python",
   "name": "python",
   "nbconvert_exporter": "python",
   "pygments_lexer": "ipython3",
   "version": "3.7.3"
  }
 },
 "nbformat": 4,
 "nbformat_minor": 2
}
