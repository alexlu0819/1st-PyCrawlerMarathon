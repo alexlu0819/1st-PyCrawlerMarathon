{
 "cells": [
  {
   "cell_type": "markdown",
   "metadata": {},
   "source": [
    "# API 資料串接 - 以 Dcard API 實作範例\n",
    "\n",
    "* 利用 urllib 套件的 urlretrieve 方法下載檔案\n",
    "* 了解 Python File I/O 讀檔、寫檔的用法\n",
    "* 能用運用資源管理器 With Statement 優化寫法"
   ]
  },
  {
   "cell_type": "markdown",
   "metadata": {},
   "source": [
    "## 作業目標\n",
    "\n",
    "* 請利用 API: https://www.dcard.tw/_api/forums/pet/posts?popular=true 回答下列問題：\n",
    "\n",
    "1. 這個 API 一次會回傳幾筆資料？每一筆資料包含哪些欄位？\n",
    "2. 取出每一筆資料的「標題」、「貼文時間」、「留言人數」、「按讚人數」\n",
    "3. 計算熱門/非熱門文章的「平均留言人數」與「平均按讚人數」"
   ]
  },
  {
   "cell_type": "code",
   "execution_count": 2,
   "metadata": {},
   "outputs": [
    {
     "name": "stdout",
     "output_type": "stream",
     "text": [
      "資料筆數: 30\n",
      "欄位名稱:\n",
      "id\n",
      "title\n",
      "excerpt\n",
      "anonymousSchool\n",
      "anonymousDepartment\n",
      "pinned\n",
      "forumId\n",
      "replyId\n",
      "createdAt\n",
      "updatedAt\n",
      "commentCount\n",
      "likeCount\n",
      "withNickname\n",
      "tags\n",
      "topics\n",
      "meta\n",
      "forumName\n",
      "forumAlias\n",
      "gender\n",
      "school\n",
      "replyTitle\n",
      "mediaMeta\n",
      "reactions\n",
      "hidden\n",
      "customStyle\n",
      "isSuspiciousAccount\n",
      "layout\n",
      "withImages\n",
      "withVideos\n",
      "media\n",
      "reportReasonText\n",
      "postAvatar\n"
     ]
    }
   ],
   "source": [
    "# 1. 這個 API 一次會回傳幾筆資料？每一筆資料包含哪些欄位？\n",
    "\n",
    "import requests\n",
    "import json\n",
    "\n",
    "r = requests.get('https://www.dcard.tw/_api/forums/pet/posts?popular=true')\n",
    "response = r.text\n",
    "\n",
    "data = json.loads(response)\n",
    "print('資料筆數:', len(data))\n",
    "print('欄位名稱:')\n",
    "for key in data[0].keys():\n",
    "    print(key)\n"
   ]
  },
  {
   "cell_type": "code",
   "execution_count": 3,
   "metadata": {},
   "outputs": [
    {
     "name": "stdout",
     "output_type": "stream",
     "text": [
      "好像買太小了... 2019-12-01T08:27:28.504Z 23 2368\n",
      "散步好夥伴🐶漆黑寒冷的夜晚也找得到便便💩 2019-12-02T02:51:47.393Z 0 300\n",
      "我養的是工讀生？🤔 2019-12-01T02:07:09.729Z 18 298\n",
      "貓咪沒在尊重男友 2019-12-01T10:44:13.896Z 4 63\n",
      "如果當初這樣做 或許結局就能不同了吧 2019-12-01T00:49:18.221Z 0 49\n",
      "自嗨小橘貓 2019-11-30T20:21:16.782Z 2 42\n",
      "#圖多 可愛喵喵們(⁎⁍̴̛ᴗ⁍̴̛⁎) 2019-12-01T08:44:25.791Z 1 35\n",
      "我家阿咪的特技 2019-11-30T18:43:59.640Z 4 32\n",
      "你們吸貓，我被貓吸 2019-11-30T19:10:22.899Z 0 29\n",
      "可以幫幫我推上熱門嗎急尋狗啟示 2019-12-01T17:56:16.299Z 0 28\n",
      "#貓 擁有狗靈魂的貓 2019-12-01T11:43:58.401Z 2 21\n",
      "兔兔的睡姿⋯⋯ 2019-12-01T09:01:55.400Z 5 18\n",
      "我家的紅貴賓到底是不是人轉世？ 2019-12-01T06:13:52.856Z 5 18\n",
      "寵物過世碰到的外套 2019-12-01T09:23:54.879Z 3 17\n",
      "來嘛~~來吸我啊~ 2019-12-01T11:56:53.031Z 1 15\n",
      "請問⋯妳是在哈囉？ 2019-11-30T19:16:39.494Z 2 15\n",
      "一隻會傳球的貓 2019-11-30T18:36:38.485Z 1 15\n",
      "基隆瑞芳深澳坑走失協找 拜託❗️❗️ 2019-12-01T12:22:04.478Z 1 12\n",
      "虎爺公的細漢欸（小弟） 2019-11-30T19:16:31.808Z 0 12\n",
      "你有看過這隻狗嗎？ 2019-12-01T20:33:16.869Z 2 11\n",
      "中壢/米克斯狗女兒走失 2019-12-01T10:58:09.738Z 0 11\n",
      "睡到投降的傻布偶小貓 2019-12-01T02:10:49.971Z 0 11\n",
      "我養了三隻蟲？🐛 2019-12-01T12:17:06.699Z 1 10\n",
      "#協尋 玄鳳鸚鵡（已找到愛鳥 謝謝大家 謝謝好心人） 2019-12-01T05:33:55.211Z 2 10\n",
      "她是真的不是假的🌚 2019-12-01T16:18:44.132Z 0 9\n",
      "吉娃娃才不吉敗咧 2019-12-01T09:17:16.567Z 6 9\n",
      "淘寶寵物用品開箱&心得📦🐱 2019-12-01T06:19:59.473Z 9 9\n",
      "公貓結紮紀錄 2019-11-30T18:29:05.363Z 7 9\n",
      "送養 2019-12-02T02:36:37.309Z 1 8\n",
      "我的心已融化 2019-12-01T03:09:54.454Z 2 7\n"
     ]
    }
   ],
   "source": [
    "# 2. 取出每一筆資料的「標題」、「貼文時間」、「留言人數」、「按讚人數」\n",
    "\n",
    "for d in data:\n",
    "    print(d['title'], d['createdAt'], d['commentCount'], d['likeCount'])"
   ]
  },
  {
   "cell_type": "code",
   "execution_count": 5,
   "metadata": {},
   "outputs": [
    {
     "name": "stdout",
     "output_type": "stream",
     "text": [
      "熱門文章\n",
      "平均留言人數: 3.4\n",
      "平均按讚人數: 116.36666666666666\n",
      "非熱門文章\n",
      "平均留言人數: 1.1333333333333333\n",
      "平均按讚人數: 14.2\n"
     ]
    }
   ],
   "source": [
    "# 3. 計算熱門/非熱門文章的「平均留言人數」與「平均按讚人數」\n",
    "\n",
    "commentCount = 0\n",
    "likeCount = 0\n",
    "for d in data:\n",
    "    commentCount += d['commentCount']\n",
    "    likeCount += d['likeCount']\n",
    "\n",
    "print('熱門文章')\n",
    "print('平均留言人數:', commentCount/len(data))\n",
    "print('平均按讚人數:', likeCount/len(data))    \n",
    "\n",
    "n_r = requests.get('https://www.dcard.tw/_api/forums/pet/posts?popular=false')\n",
    "n_response = n_r.text\n",
    "\n",
    "n_data = json.loads(n_response)\n",
    "n_commentCount = 0\n",
    "n_likeCount = 0\n",
    "for d in n_data:\n",
    "    n_commentCount += d['commentCount']\n",
    "    n_likeCount += d['likeCount']\n",
    "print('非熱門文章')\n",
    "print('平均留言人數:', n_commentCount/len(n_data))\n",
    "print('平均按讚人數:', n_likeCount/len(n_data))  "
   ]
  },
  {
   "cell_type": "code",
   "execution_count": null,
   "metadata": {},
   "outputs": [],
   "source": []
  },
  {
   "cell_type": "code",
   "execution_count": null,
   "metadata": {},
   "outputs": [],
   "source": []
  }
 ],
 "metadata": {
  "kernelspec": {
   "display_name": "Python 3",
   "language": "python",
   "name": "python3"
  },
  "language_info": {
   "codemirror_mode": {
    "name": "ipython",
    "version": 3
   },
   "file_extension": ".py",
   "mimetype": "text/x-python",
   "name": "python",
   "nbconvert_exporter": "python",
   "pygments_lexer": "ipython3",
   "version": "3.7.3"
  }
 },
 "nbformat": 4,
 "nbformat_minor": 2
}
