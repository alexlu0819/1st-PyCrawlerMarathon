{
 "cells": [
  {
   "cell_type": "markdown",
   "metadata": {},
   "source": [
    "# Python 下載XML檔案與解析\n",
    "\n",
    "\n",
    "* 了解 xml 檔案格式與內容\n",
    "* 能夠利用套件存取 xml 格式的檔案\n"
   ]
  },
  {
   "cell_type": "markdown",
   "metadata": {},
   "source": [
    "## 作業目標\n",
    "\n",
    "* 比較一下範例檔案中的「File I/O」與「xmltodict」讀出來的內容有什麼差異\n",
    "\n",
    "* 根據範例檔案的結果：\n",
    "    1. 請問高雄市有多少地區有溫度資料？\n",
    "    2. 請取出每一個地區所記錄的第一個時間點跟溫度\n",
    "    3. 請取出第一個地區所記錄的每一個時間點跟溫度"
   ]
  },
  {
   "cell_type": "markdown",
   "metadata": {},
   "source": [
    "### 比較一下範例檔案中的「File I/O」與「xmltodict」讀出來的內容有什麼差異\n"
   ]
  },
  {
   "cell_type": "code",
   "execution_count": 124,
   "metadata": {},
   "outputs": [
    {
     "data": {
      "text/plain": [
       "'\\nFile I/O將原始檔案用字串型式呈現, xmltodict會轉換成dictionary, 方便用key-value的方式存取\\n'"
      ]
     },
     "execution_count": 124,
     "metadata": {},
     "output_type": "execute_result"
    }
   ],
   "source": [
    "'''\n",
    "File I/O將原始檔案用字串型式呈現, xmltodict會轉換成dictionary, 方便用key-value的方式存取\n",
    "'''"
   ]
  },
  {
   "cell_type": "markdown",
   "metadata": {},
   "source": [
    "### 根據範例檔案的結果：\n",
    "\n",
    "1. 請問高雄市有多少地區有溫度資料？\n",
    "2. 請取出每一個地區所記錄的第一個時間點跟溫度\n",
    "3. 請取出第一個地區所記錄的每一個時間點跟溫度"
   ]
  },
  {
   "cell_type": "code",
   "execution_count": 59,
   "metadata": {},
   "outputs": [
    {
     "name": "stdout",
     "output_type": "stream",
     "text": [
      "總共: 38\n",
      "鹽埕區\n",
      "鼓山區\n",
      "左營區\n",
      "楠梓區\n",
      "三民區\n",
      "新興區\n",
      "前金區\n",
      "苓雅區\n",
      "前鎮區\n",
      "旗津區\n",
      "小港區\n",
      "鳳山區\n",
      "林園區\n",
      "大寮區\n",
      "大樹區\n",
      "大社區\n",
      "仁武區\n",
      "鳥松區\n",
      "岡山區\n",
      "橋頭區\n",
      "燕巢區\n",
      "田寮區\n",
      "阿蓮區\n",
      "路竹區\n",
      "湖內區\n",
      "茄萣區\n",
      "永安區\n",
      "彌陀區\n",
      "梓官區\n",
      "旗山區\n",
      "美濃區\n",
      "六龜區\n",
      "甲仙區\n",
      "杉林區\n",
      "內門區\n",
      "茂林區\n",
      "桃源區\n",
      "那瑪夏區\n"
     ]
    }
   ],
   "source": [
    "# 1. 請問高雄市有多少地區有溫度資料？\n",
    "\n",
    "import xmltodict\n",
    "fh = open(\"./data/64_72hr_CH.xml\", \"r\", encoding=\"utf-8\")\n",
    "xml = fh.read()\n",
    "d = dict(xmltodict.parse(xml))\n",
    "locations = d['cwbopendata']['dataset']['locations']['location']\n",
    "print('總共:',len(locations))\n",
    "for location in locations:\n",
    "    print(location['locationName'])"
   ]
  },
  {
   "cell_type": "code",
   "execution_count": 106,
   "metadata": {},
   "outputs": [
    {
     "name": "stdout",
     "output_type": "stream",
     "text": [
      "鹽埕區 2019-11-27T12:00:00+08:00 28\n",
      "鼓山區 2019-11-27T12:00:00+08:00 28\n",
      "左營區 2019-11-27T12:00:00+08:00 27\n",
      "楠梓區 2019-11-27T12:00:00+08:00 28\n",
      "三民區 2019-11-27T12:00:00+08:00 27\n",
      "新興區 2019-11-27T12:00:00+08:00 28\n",
      "前金區 2019-11-27T12:00:00+08:00 28\n",
      "苓雅區 2019-11-27T12:00:00+08:00 28\n",
      "前鎮區 2019-11-27T12:00:00+08:00 28\n",
      "旗津區 2019-11-27T12:00:00+08:00 27\n",
      "小港區 2019-11-27T12:00:00+08:00 28\n",
      "鳳山區 2019-11-27T12:00:00+08:00 28\n",
      "林園區 2019-11-27T12:00:00+08:00 28\n",
      "大寮區 2019-11-27T12:00:00+08:00 29\n",
      "大樹區 2019-11-27T12:00:00+08:00 29\n",
      "大社區 2019-11-27T12:00:00+08:00 28\n",
      "仁武區 2019-11-27T12:00:00+08:00 28\n",
      "鳥松區 2019-11-27T12:00:00+08:00 28\n",
      "岡山區 2019-11-27T12:00:00+08:00 28\n",
      "橋頭區 2019-11-27T12:00:00+08:00 28\n",
      "燕巢區 2019-11-27T12:00:00+08:00 28\n",
      "田寮區 2019-11-27T12:00:00+08:00 28\n",
      "阿蓮區 2019-11-27T12:00:00+08:00 28\n",
      "路竹區 2019-11-27T12:00:00+08:00 28\n",
      "湖內區 2019-11-27T12:00:00+08:00 27\n",
      "茄萣區 2019-11-27T12:00:00+08:00 26\n",
      "永安區 2019-11-27T12:00:00+08:00 26\n",
      "彌陀區 2019-11-27T12:00:00+08:00 27\n",
      "梓官區 2019-11-27T12:00:00+08:00 27\n",
      "旗山區 2019-11-27T12:00:00+08:00 28\n",
      "美濃區 2019-11-27T12:00:00+08:00 29\n",
      "六龜區 2019-11-27T12:00:00+08:00 28\n",
      "甲仙區 2019-11-27T12:00:00+08:00 28\n",
      "杉林區 2019-11-27T12:00:00+08:00 31\n",
      "內門區 2019-11-27T12:00:00+08:00 29\n",
      "茂林區 2019-11-27T12:00:00+08:00 29\n",
      "桃源區 2019-11-27T12:00:00+08:00 27\n",
      "那瑪夏區 2019-11-27T12:00:00+08:00 25\n"
     ]
    }
   ],
   "source": [
    "# 2. 請取出每一個地區所記錄的第一個時間點跟溫度\n",
    "\n",
    "for location in locations:\n",
    "    weatherElement = location['weatherElement'][0]\n",
    "    temperature = weatherElement['time'][0]\n",
    "    dateTime = temperature['dataTime']\n",
    "    value = temperature['elementValue']['value']\n",
    "    print(location['locationName'], dateTime, value)"
   ]
  },
  {
   "cell_type": "code",
   "execution_count": 123,
   "metadata": {},
   "outputs": [
    {
     "name": "stdout",
     "output_type": "stream",
     "text": [
      "鹽埕區\n",
      "2019-11-27T12:00:00+08:00 28\n",
      "2019-11-27T15:00:00+08:00 28\n",
      "2019-11-27T18:00:00+08:00 25\n",
      "2019-11-27T21:00:00+08:00 23\n",
      "2019-11-28T00:00:00+08:00 22\n",
      "2019-11-28T03:00:00+08:00 21\n",
      "2019-11-28T06:00:00+08:00 20\n",
      "2019-11-28T09:00:00+08:00 23\n",
      "2019-11-28T12:00:00+08:00 26\n",
      "2019-11-28T15:00:00+08:00 26\n",
      "2019-11-28T18:00:00+08:00 24\n",
      "2019-11-28T21:00:00+08:00 22\n",
      "2019-11-29T00:00:00+08:00 21\n",
      "2019-11-29T03:00:00+08:00 20\n",
      "2019-11-29T06:00:00+08:00 19\n",
      "2019-11-29T09:00:00+08:00 21\n",
      "2019-11-29T12:00:00+08:00 24\n",
      "2019-11-29T15:00:00+08:00 24\n",
      "2019-11-29T18:00:00+08:00 23\n",
      "2019-11-29T21:00:00+08:00 22\n",
      "2019-11-30T00:00:00+08:00 21\n",
      "2019-11-30T03:00:00+08:00 20\n",
      "2019-11-30T06:00:00+08:00 20\n",
      "2019-11-30T09:00:00+08:00 22\n"
     ]
    }
   ],
   "source": [
    "# 3. 請取出第一個地區所記錄的每一個時間點跟溫度\n",
    "\n",
    "location = d['cwbopendata']['dataset']['locations']['location'][0]\n",
    "print(location['locationName'])\n",
    "weatherElement = location['weatherElement'][0]\n",
    "temperatures = weatherElement['time']\n",
    "#print(temperature)\n",
    "for temperature in temperatures:\n",
    "    #temperature = element['time'][0]\n",
    "    dateTime = temperature['dataTime']\n",
    "    value = temperature['elementValue']['value']\n",
    "    print(dateTime, value)\n"
   ]
  },
  {
   "cell_type": "code",
   "execution_count": null,
   "metadata": {},
   "outputs": [],
   "source": []
  }
 ],
 "metadata": {
  "kernelspec": {
   "display_name": "Python 3",
   "language": "python",
   "name": "python3"
  },
  "language_info": {
   "codemirror_mode": {
    "name": "ipython",
    "version": 3
   },
   "file_extension": ".py",
   "mimetype": "text/x-python",
   "name": "python",
   "nbconvert_exporter": "python",
   "pygments_lexer": "ipython3",
   "version": "3.7.3"
  }
 },
 "nbformat": 4,
 "nbformat_minor": 2
}
